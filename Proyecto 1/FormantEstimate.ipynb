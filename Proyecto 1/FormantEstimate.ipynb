{
 "cells": [
  {
   "cell_type": "markdown",
   "metadata": {},
   "source": [
    "# Librerias"
   ]
  },
  {
   "cell_type": "code",
   "execution_count": 3,
   "metadata": {},
   "outputs": [],
   "source": [
    "import numpy as np\n",
    "import matplotlib.pyplot as plt\n",
    "\n",
    "#Librosa\n",
    "from librosa import lpc\n",
    "from librosa.effects import preemphasis\n",
    "from librosa import resample\n",
    "from librosa.util import peak_pick"
   ]
  },
  {
   "cell_type": "markdown",
   "metadata": {},
   "source": [
    "# Funciones"
   ]
  },
  {
   "cell_type": "code",
   "execution_count": null,
   "metadata": {},
   "outputs": [],
   "source": [
    "NUMBER_OF_SLOTS = 4\n",
    "estimates = np.zeros(NUMBER_OF_SLOTS)\n",
    "\n",
    "def Peaks2Formants(peaks):\n",
    "    slots = np.zeros(NUMBER_OF_SLOTS) #Slots where potential formants are placed\n",
    "    used_indx = []\n",
    "    #STEP 1 - fill slots based on closest distance to estimates\n",
    "    for i in range(0, NUMBER_OF_SLOTS):\n",
    "        indx = np.argmin( abs(peaks-estimates[i]) )\n",
    "        slots[i] = peaks[indx] \n",
    "        used_indx.append(indx)\n",
    "        \n",
    "    #STEP 2 - remove duplicates\n",
    "    u, indices = np.unique(slots, return_index=True)\n",
    "    for i in range(0, NUMBER_OF_SLOTS):\n",
    "        if i not in  indices:\n",
    "            slots[i] = 0\n",
    "    \n",
    "    #STEP 3 - deal with unused peaks\n",
    "    unused_peaks = np.delete(peaks,used_indx)\n",
    "    for peak in unused_peaks:\n",
    "        k = np.argmin(peaks - peak)\n",
    "        if slot[k] == 0: # Si el slot con el mismo numero esta vacio lo asigno ahi\n",
    "            slot[k] = peak\n",
    "        elif peak > 0.5*slot[k]:\n",
    "            if k < NUMBER_OF_SLOTS:\n",
    "                if slot[k+1] == 0: \n",
    "                    slot[k+1] = slot[k] #Muevo el pico del slot uno para adelante\n",
    "                    slot[k] = peak #Asigno el pico sin usar al slot con su numero\n",
    "                else:\n",
    "                    if k > 0:\n",
    "                        if slot[k-1] == 0: \n",
    "                            slot[k-1] = slot[k] #Muevo el pico del slot uno para atras\n",
    "                            slot[k] = peak #Asigno el pico sin usar al slot con su numero\n",
    "    estimates = slots\n",
    "    return slots\n",
    "    \n",
    "def GetFormants(buffer, fs, energy_th=100, N=256, new_fs=1e4, lpc_order=14):\n",
    "    if( buffer.std < energy_th )\n",
    "        return None #Descarto el frame si es silencio\n",
    "    hp_filtered = preemphasis(buffer, coef=1)\n",
    "    downsampled = resample(hp_filtered, fs, new_fs)\n",
    "    coefs = lpc(downsampled, lpc_order) #Revisar si son coeficientes del filtro de error o del predictivo\n",
    "    spectrum = 1/abs(np.fft.rfft([1, -coefs],n=N)) \n",
    "    peaks = peak_pick(spectrum, pre_max=3, post_max=3, pre_avg=3, post_avg=3, delta=0, wait=0)\n",
    "    #Aca falta meter la parte de obtener las primeras\n",
    "    return peaks"
   ]
  },
  {
   "cell_type": "markdown",
   "metadata": {},
   "source": [
    "# Cargo señal de audio y estimo formantes"
   ]
  },
  {
   "cell_type": "code",
   "execution_count": null,
   "metadata": {},
   "outputs": [],
   "source": []
  }
 ],
 "metadata": {
  "kernelspec": {
   "display_name": "Python 3",
   "language": "python",
   "name": "python3"
  },
  "language_info": {
   "codemirror_mode": {
    "name": "ipython",
    "version": 3
   },
   "file_extension": ".py",
   "mimetype": "text/x-python",
   "name": "python",
   "nbconvert_exporter": "python",
   "pygments_lexer": "ipython3",
   "version": "3.8.3"
  }
 },
 "nbformat": 4,
 "nbformat_minor": 4
}
