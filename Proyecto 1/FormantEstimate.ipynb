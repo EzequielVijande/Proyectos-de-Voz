{
 "cells": [
  {
   "cell_type": "markdown",
   "metadata": {},
   "source": [
    "# Librerias"
   ]
  },
  {
   "cell_type": "code",
   "execution_count": 3,
   "metadata": {},
   "outputs": [],
   "source": [
    "import numpy as np\n",
    "import matplotlib.pyplot as plt\n",
    "\n",
    "#Librosa\n",
    "from librosa import lpc\n",
    "from librosa.effects import preemphasis\n",
    "from librosa import resample\n",
    "from librosa.util import peak_pick"
   ]
  },
  {
   "cell_type": "markdown",
   "metadata": {},
   "source": [
    "# Funciones"
   ]
  },
  {
   "cell_type": "code",
   "execution_count": null,
   "metadata": {},
   "outputs": [],
   "source": [
    "def GetFormants(buffer, fs, energy_th=100, N=256, new_fs=1e4, lpc_order=14):\n",
    "    if( buffer.std < energy_th )\n",
    "        return None #Descarto el frame si es silencio\n",
    "    hp_filtered = preemphasis(buffer, coef=1)\n",
    "    downsampled = resample(hp_filtered, fs, new_fs)\n",
    "    coefs = lpc(downsampled, lpc_order)\n",
    "    spectrum = 1/abs(np.fft.rfft(coefs,n=N))\n",
    "    peaks = peak_pick(spectrum, pre_max=3, post_max=3, pre_avg=3, post_avg=3, delta=0, wait=0)\n",
    "    #Aca falta meter la parte de obtener las primeras\n",
    "    return peaks"
   ]
  },
  {
   "cell_type": "markdown",
   "metadata": {},
   "source": [
    "# Cargo señal de audio y estimo formantes"
   ]
  },
  {
   "cell_type": "code",
   "execution_count": null,
   "metadata": {},
   "outputs": [],
   "source": []
  }
 ],
 "metadata": {
  "kernelspec": {
   "display_name": "Python 3",
   "language": "python",
   "name": "python3"
  },
  "language_info": {
   "codemirror_mode": {
    "name": "ipython",
    "version": 3
   },
   "file_extension": ".py",
   "mimetype": "text/x-python",
   "name": "python",
   "nbconvert_exporter": "python",
   "pygments_lexer": "ipython3",
   "version": "3.8.3"
  }
 },
 "nbformat": 4,
 "nbformat_minor": 4
}
